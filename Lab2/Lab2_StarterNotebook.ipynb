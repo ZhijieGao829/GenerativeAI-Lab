{
 "cells": [
  {
   "cell_type": "markdown",
   "metadata": {},
   "source": [
    "# Lab2: Starter Notebook\n",
    "#### Prompt Engineering"
   ]
  },
  {
   "cell_type": "markdown",
   "metadata": {},
   "source": [
    "## Step 0: Verify Installations"
   ]
  },
  {
   "cell_type": "code",
   "execution_count": 2,
   "metadata": {},
   "outputs": [
    {
     "name": "stdout",
     "output_type": "stream",
     "text": [
      "Python 3.11.8\n",
      "openai 1.52.2\n"
     ]
    }
   ],
   "source": [
    "# Verify Python version\n",
    "# > 3.8 (My Python Version is 3.11.8)\n",
    "!python --version\n",
    "\n",
    "# Verify OpenAI library version\n",
    "# 1.52.2\n",
    "!openai --version"
   ]
  },
  {
   "cell_type": "markdown",
   "metadata": {},
   "source": [
    "## Step 1: Ensure OpenAI Key Is Correctly Setup"
   ]
  },
  {
   "cell_type": "code",
   "execution_count": null,
   "metadata": {},
   "outputs": [],
   "source": [
    "import openai\n",
    "import os\n",
    "\n",
    "# Retrieve the API key from environment variable\n",
    "openai.api_key = os.getenv(\"OPENAI_API_KEY\")\n",
    "\n",
    "client = openai.OpenAI(\n",
    "    api_key=os.getenv(\"OPENAI_API_KEY\")\n",
    ")\n",
    "\n",
    "# Printing OpenAI API Key.\n",
    "# Your API key should print, if it doesn't try restarting VS Code and Anaconda. Also ensure you set this up in your Environment Variable Section (Lab1)\n",
    "print(openai.api_key)"
   ]
  },
  {
   "cell_type": "markdown",
   "metadata": {},
   "source": [
    "## Prompt Engineering Techniques\n",
    "##### We will be focusing on these 3 prompt engineering techniques. Please feel free to explore any prompt engineering techniques. I will provide an article for additional techniques.\n",
    "- Zero-Shot\n",
    "- Few-Shot\n",
    "- Chain-of-Thought"
   ]
  },
  {
   "cell_type": "markdown",
   "metadata": {},
   "source": [
    "## Example 1: Zero-Shot"
   ]
  },
  {
   "cell_type": "code",
   "execution_count": 9,
   "metadata": {},
   "outputs": [
    {
     "name": "stdout",
     "output_type": "stream",
     "text": [
      "Je m'appelle Michael. Et toi, comment t'appelles-tu ?\n"
     ]
    }
   ],
   "source": [
    "from openai import OpenAI\n",
    "client = OpenAI()\n",
    "\n",
    "response = client.chat.completions.create(\n",
    "  model=\"gpt-3.5-turbo\",\n",
    "  messages=[\n",
    "    {\n",
    "      \"role\": \"system\",\n",
    "      \"content\": \"You will be provided with sentences in English, and your task is to translate them into French.\"\n",
    "    },\n",
    "    {\n",
    "      \"role\": \"user\",\n",
    "      \"content\": \"My name is Michael. What is yours?\"\n",
    "    }\n",
    "  ],\n",
    "  temperature=0.7,\n",
    "  max_tokens=64,\n",
    "  top_p=1\n",
    ")\n",
    "\n",
    "# Print the response\n",
    "print(response.choices[0].message.content)"
   ]
  },
  {
   "cell_type": "markdown",
   "metadata": {},
   "source": [
    "## Example 2: Few-Shot"
   ]
  },
  {
   "cell_type": "code",
   "execution_count": 11,
   "metadata": {},
   "outputs": [
    {
     "name": "stdout",
     "output_type": "stream",
     "text": [
      "They are coming over later.\n"
     ]
    }
   ],
   "source": [
    "from openai import OpenAI\n",
    "client = OpenAI()\n",
    "\n",
    "# Define the prompt with several examples and a new sentence for correction\n",
    "prompt = [\n",
    "    {\n",
    "        \"role\": \"system\",\n",
    "        \"content\": \"Correct the following sentences for grammatical errors:\"\n",
    "    },\n",
    "    {\n",
    "        \"role\": \"user\",\n",
    "        \"content\": \"She don't like apples.\"\n",
    "    },\n",
    "    {\n",
    "        \"role\": \"assistant\",\n",
    "        \"content\": \"She doesn't like apples.\"\n",
    "    },\n",
    "    {\n",
    "        \"role\": \"user\",\n",
    "        \"content\": \"We was going to the park.\"\n",
    "    },\n",
    "    {\n",
    "        \"role\": \"assistant\",\n",
    "        \"content\": \"We were going to the park.\"\n",
    "    },\n",
    "    {\n",
    "        \"role\": \"user\",\n",
    "        \"content\": \"He have two cats.\"\n",
    "    },\n",
    "    {\n",
    "        \"role\": \"assistant\",\n",
    "        \"content\": \"He has two cats.\"\n",
    "    },\n",
    "    {\n",
    "        \"role\": \"user\",\n",
    "        \"content\": \"They is coming over later.\"\n",
    "    }\n",
    "]\n",
    "\n",
    "# Make the API request using the defined prompt\n",
    "response = client.chat.completions.create(\n",
    "    model=\"gpt-4o\",\n",
    "    messages=prompt,\n",
    "    temperature=0.7,\n",
    "    max_tokens=64,\n",
    "    top_p=1\n",
    ")\n",
    "\n",
    "# Print the corrected sentence\n",
    "print(response.choices[0].message.content)"
   ]
  },
  {
   "cell_type": "markdown",
   "metadata": {},
   "source": [
    "## Example 3: Few-Shot"
   ]
  },
  {
   "cell_type": "code",
   "execution_count": 47,
   "metadata": {},
   "outputs": [
    {
     "name": "stdout",
     "output_type": "stream",
     "text": [
      "Adding all the odd numbers gives 41. The answer is False.\n"
     ]
    }
   ],
   "source": [
    "from openai import OpenAI\n",
    "client = OpenAI()\n",
    "\n",
    "# Define the prompt with several examples and a new sentence for correction\n",
    "prompt = [\n",
    "    {\n",
    "        \"role\": \"user\",\n",
    "        \"content\": \"\"\"\n",
    "        Question: The odd numbers in this group add up to an even number: 4, 8, 9, 15, 12, 2, 1.\n",
    "        Answer: Adding all the odd numbers gives 25. The answer is False.\n",
    "        \n",
    "        Question: The odd numbers in this group add up to an even number: 17, 10, 19, 4, 8, 12, 24.\n",
    "        Answer: Adding all the odd numbers gives 36. The answer is True.\n",
    "        \n",
    "        Question: The odd numbers in this group add up to an even number: 16, 11, 14, 4, 8, 13, 24.\n",
    "        Answer: Adding all the odd numbers gives 24. The answer is True.\n",
    "        \n",
    "        Question: The odd numbers in this group add up to an even number: 17, 9, 10, 12, 13, 4, 2.\n",
    "        Answer: Adding all the odd numbers gives 39. The answer is False.\n",
    "        \n",
    "        Question: The odd numbers in this group add up to an even number: 15, 32, 5, 13, 82, 7, 1.\n",
    "        Answer:\n",
    "        \"\"\"\n",
    "    }\n",
    "]\n",
    "\n",
    "# Make the API request using the defined prompt\n",
    "response = client.chat.completions.create(\n",
    "    model=\"gpt-4o\",\n",
    "    messages=prompt,\n",
    "    temperature=0.5,\n",
    "    max_tokens=200,\n",
    "    top_p=1\n",
    ")\n",
    "\n",
    "# Print the model's reasoning and answer for the last question\n",
    "print(response.choices[0].message.content)"
   ]
  },
  {
   "cell_type": "markdown",
   "metadata": {},
   "source": [
    "## Example 4: Chain-of-Thought"
   ]
  },
  {
   "cell_type": "code",
   "execution_count": 28,
   "metadata": {},
   "outputs": [
    {
     "name": "stdout",
     "output_type": "stream",
     "text": [
      "Question: The odd numbers in this group add up to an even number: 15, 32, 5, 13, 82, 7, 1.\n",
      "Explanation: Identify the odd numbers in the list, which are 15, 5, 13, 7, and 1. Add these numbers together: 15 + 5 + 13 + 7 + 1 = 41. Check if 41 is even or odd. Since 41 is odd, the statement is false.\n",
      "Answer: False.\n"
     ]
    }
   ],
   "source": [
    "from openai import OpenAI\n",
    "client = OpenAI()\n",
    "\n",
    "# Define the prompt with several examples and a new sentence for correction\n",
    "prompt = [\n",
    "    {\n",
    "        \"role\": \"system\",\n",
    "        \"content\": \"Determine if the sum of odd numbers in each group is even or odd, and explain your reasoning step by step.\"\n",
    "    },\n",
    "    {\n",
    "        \"role\": \"user\",\n",
    "        \"content\": \"\"\"\n",
    "        Question: The odd numbers in this group add up to an even number: 4, 8, 9, 15, 12, 2, 1.\n",
    "        Explanation: First, identify the odd numbers in the list, which are 9, 15, and 1. Then, add these numbers together: 9 + 15 + 1 = 25. Check if 25 is even or odd. Since 25 is odd, the statement is false.\n",
    "        Answer: False.\n",
    "        \n",
    "        Question: The odd numbers in this group add up to an even number: 17, 10, 19, 4, 8, 12, 24.\n",
    "        Explanation: Identify the odd numbers, which are 17 and 19. Add these numbers: 17 + 19 = 36. Check if 36 is even or odd. Since 36 is even, the statement is true.\n",
    "        Answer: True.\n",
    "        \n",
    "        Question: The odd numbers in this group add up to an even number: 16, 11, 14, 4, 8, 13, 24.\n",
    "        Explanation: The odd numbers are 11 and 13. Adding them gives 11 + 13 = 24. Check if 24 is even or odd. Since 24 is even, the statement is true.\n",
    "        Answer: True.\n",
    "        \n",
    "        Question: The odd numbers in this group add up to an even number: 17, 9, 10, 12, 13, 4, 2.\n",
    "        Explanation: The odd numbers here are 17, 9, and 13. Adding these gives 17 + 9 + 13 = 39. Check if 39 is even or odd. Since 39 is odd, the statement is false.\n",
    "        Answer: False.\n",
    "        \n",
    "        Question: The odd numbers in this group add up to an even number: 15, 32, 5, 13, 82, 7, 1.\n",
    "        Explanation:\n",
    "        Answer:\n",
    "        \"\"\"\n",
    "    }\n",
    "]\n",
    "\n",
    "# Make the API request using the defined prompt\n",
    "response = client.chat.completions.create(\n",
    "    model=\"gpt-3.5-turbo\",\n",
    "    messages=prompt,\n",
    "    temperature=.1,\n",
    "    max_tokens=500,\n",
    "    top_p=1\n",
    ")\n",
    "\n",
    "# Print the model's reasoning and answer for the last question\n",
    "print(response.choices[0].message.content)"
   ]
  },
  {
   "cell_type": "markdown",
   "metadata": {},
   "source": [
    "## Example 5: Incorrect Answer vs Correct Answer"
   ]
  },
  {
   "cell_type": "markdown",
   "metadata": {},
   "source": [
    "### Incorrect Answer\n",
    "- Example of Zero-Shot\n",
    "- This prompt is poorly written. Which is why I am getting an incorrect answer."
   ]
  },
  {
   "cell_type": "code",
   "execution_count": 57,
   "metadata": {},
   "outputs": [
    {
     "name": "stdout",
     "output_type": "stream",
     "text": [
      "There are 3 burgers left over.\n"
     ]
    }
   ],
   "source": [
    "from openai import OpenAI\n",
    "client = OpenAI()\n",
    "\n",
    "# Define the prompt with several examples and a new sentence for correction\n",
    "prompt = [\n",
    "    {\n",
    "        \"role\": \"system\",\n",
    "        \"content\": \"Provide me with just an answer\"\n",
    "    },\n",
    "    {\n",
    "        \"role\": \"user\",\n",
    "        \"content\": \n",
    "                    \"Question: I cooked 8 hamburgers. Michael ate 5 percent of the burgers. Jillian then ate 10 percent of the burgers then cooked an additional 5 burgers. How many burgers are left over? /\"\n",
    "                    \"Answer: \"\n",
    "    },\n",
    "]\n",
    "\n",
    "# Make the API request using the defined prompt\n",
    "response = client.chat.completions.create(\n",
    "    model=\"gpt-4o-mini\",\n",
    "    messages=prompt,\n",
    "    temperature=.5,\n",
    "    max_tokens=250,\n",
    "    top_p=1\n",
    ")\n",
    "\n",
    "# Print the model's reasoning and answer for the last question\n",
    "print(response.choices[0].message.content)"
   ]
  },
  {
   "cell_type": "markdown",
   "metadata": {},
   "source": [
    "### Correct Answer\n",
    "- Example of Chain-of-Thought\n",
    "- This prompt provides examples and is telling the system to follow the same answer structure as the provided examples"
   ]
  },
  {
   "cell_type": "code",
   "execution_count": 55,
   "metadata": {},
   "outputs": [
    {
     "name": "stdout",
     "output_type": "stream",
     "text": [
      "To solve the problem, we start with the initial number of hamburgers:\n",
      "\n",
      "1. **Initial hamburgers**: 8 hamburgers\n",
      "\n",
      "2. **Michael ate 5 percent of the burgers**:\n",
      "   - 5 percent of 8 hamburgers = 0.05 * 8 = 0.4 hamburgers\n",
      "   - After Michael ate, the remaining burgers = 8 - 0.4 = 7.6 hamburgers\n",
      "\n",
      "3. **Jillian ate 10 percent of the remaining burgers**:\n",
      "   - 10 percent of 7.6 hamburgers = 0.10 * 7.6 = 0.76 hamburgers\n",
      "   - After Jillian ate, the remaining burgers = 7.6 - 0.76 = 6.84 hamburgers\n",
      "\n",
      "4. **Jillian cooked an additional 5 burgers**:\n",
      "   - Total burgers after cooking = 6.84 + 5 = 11.84 hamburgers\n",
      "\n",
      "So, the total number of hamburgers left over is **11.84 hamburgers**.\n"
     ]
    }
   ],
   "source": [
    "from openai import OpenAI\n",
    "client = OpenAI()\n",
    "\n",
    "# Define the prompt with several examples and a new sentence for correction\n",
    "prompt = [\n",
    "    {\n",
    "        \"role\": \"system\",\n",
    "        \"content\": \"Please solve the following questions, similar to the example.\" # This was the only thing changed.\n",
    "    },\n",
    "    {\n",
    "        \"role\": \"user\",\n",
    "        \"content\": \"Question: Steve brewed a beer that started with 10 gallons of beer. During the process Steve lost 10 percent of the beer. Jim drank 5 percent of the beer from a 16 ounce glass. How many ounces does Steve have left to sell?\"\n",
    "                    \"Answer: Steve had 10 gallons but lost 10 percent, which is 9 gallons (10 gallons * 10 percent = 1 gallons > 10 gallons - 1 gallon = 9 gallons). 9 gallons equals 1152 ounces. Jim drank 15.2 ounces (1152 ounces - 15.2 ounces = 1136.8 ounces). So the total onces left to sell is 1,136.8 ounces.\"\n",
    "                    \"Question: I cooked 8 hamburgers. Michael ate 5 percent of the burgers. Jillian then ate 10 percent of the burgers then cooked an additional 5 burgers. How many burgers are left over?\"\n",
    "    },\n",
    "]\n",
    "\n",
    "# Make the API request using the defined prompt\n",
    "response = client.chat.completions.create(\n",
    "    model=\"gpt-4o-mini\",\n",
    "    messages=prompt,\n",
    "    temperature=.5,\n",
    "    max_tokens=500,\n",
    "    top_p=1\n",
    ")\n",
    "\n",
    "# Print the model's reasoning and answer for the last question\n",
    "print(response.choices[0].message.content)"
   ]
  }
 ],
 "metadata": {
  "kernelspec": {
   "display_name": "OpenAI",
   "language": "python",
   "name": "python3"
  },
  "language_info": {
   "codemirror_mode": {
    "name": "ipython",
    "version": 3
   },
   "file_extension": ".py",
   "mimetype": "text/x-python",
   "name": "python",
   "nbconvert_exporter": "python",
   "pygments_lexer": "ipython3",
   "version": "3.11.8"
  }
 },
 "nbformat": 4,
 "nbformat_minor": 2
}
